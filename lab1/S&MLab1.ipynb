{
  "nbformat": 4,
  "nbformat_minor": 0,
  "metadata": {
    "colab": {
      "name": "S&MLab1.ipynb",
      "provenance": []
    },
    "kernelspec": {
      "name": "python3",
      "display_name": "Python 3"
    }
  },
  "cells": [
    {
      "cell_type": "code",
      "metadata": {
        "id": "FYVNlFar1J7P",
        "colab_type": "code",
        "colab": {}
      },
      "source": [
        "# import of libraries\n",
        "import numpy as np\n",
        "from scipy.integrate import odeint\n",
        "import matplotlib.pyplot as plt\n",
        "% matplotlib inline"
      ],
      "execution_count": null,
      "outputs": []
    },
    {
      "cell_type": "code",
      "metadata": {
        "id": "c5ZmMkVz1Wzv",
        "colab_type": "code",
        "colab": {
          "base_uri": "https://localhost:8080/",
          "height": 312
        },
        "outputId": "4224682f-b4d3-4a37-d8ea-096d22692425"
      },
      "source": [
        "# function that returns the rate of change of conc (dC/dt)\n",
        "def model(c0, t, k):\n",
        "    k1, k2 = k[0], k[1]\n",
        "    c1, c2, c3 = c0[0], c0[1], c0[2]\n",
        "\n",
        "    dc1dt = k2 * c3 - k1 * c1 * c2\n",
        "    dc2dt = k2 * c3 - k1 * c1 * c2\n",
        "    dc3dt = k1 *  c1 * c2 - k2 *  c3\n",
        "    return [dc1dt, dc2dt, dc3dt]\n",
        "\n",
        "# Initial Conditions\n",
        "c10 = 4\n",
        "c20 = 5\n",
        "c30 = 0\n",
        "c0 = [c10, c20, c30]\n",
        "\n",
        "# Reaction Constants\n",
        "k1 = 0.3\n",
        "k2 = 0.1\n",
        "k = [k1, k2]\n",
        "\n",
        "# Time Points\n",
        "t = np.arange(0,10, 0.2)\n",
        "\n",
        "# solve ODEs\n",
        "c = odeint(model, c0, t, args=(k, ))\n",
        "c1, c2, c3 = np.hsplit(c, 3)\n",
        "\n",
        "# plot results\n",
        "plt.plot(t, c1, 'r-',linewidth=2,label='c1')\n",
        "plt.plot(t,c2,'b-',linewidth=2,label='c2')\n",
        "plt.plot(t,c3,'g-',linewidth=2,label='c3')\n",
        "plt.title(f'C(t) vs t for k1= {k1} and k2= {k2}')\n",
        "plt.xlabel('time')\n",
        "plt.ylabel('C(t)')\n",
        "plt.legend()\n",
        "plt.show()\n",
        "plt.savefig('sim.png')"
      ],
      "execution_count": null,
      "outputs": [
        {
          "output_type": "display_data",
          "data": {
            "image/png": "[encoded data removed]",
            "text/plain": [
              "<Figure size 432x288 with 1 Axes>"
            ]
          },
          "metadata": {
            "tags": [],
            "needs_background": "light"
          }
        },
        {
          "output_type": "display_data",
          "data": {
            "text/plain": [
              "<Figure size 432x288 with 0 Axes>"
            ]
          },
          "metadata": {
            "tags": []
          }
        }
      ]
    },
    {
      "cell_type": "code",
      "metadata": {
        "id": "UEReRgmL6YBA",
        "colab_type": "code",
        "colab": {}
      },
      "source": [
        ""
      ],
      "execution_count": null,
      "outputs": []
    }
  ]
}