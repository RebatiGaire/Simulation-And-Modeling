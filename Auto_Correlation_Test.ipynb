{
  "nbformat": 4,
  "nbformat_minor": 0,
  "metadata": {
    "colab": {
      "name": "Auto-Correlation_Test.ipynb",
      "provenance": [],
      "authorship_tag": "ABX9TyNS6uCVuDXr00QJoPu0LYXA",
      "include_colab_link": true
    },
    "kernelspec": {
      "name": "python3",
      "display_name": "Python 3"
    }
  },
  "cells": [
    {
      "cell_type": "markdown",
      "metadata": {
        "id": "view-in-github",
        "colab_type": "text"
      },
      "source": [
        "<a href=\"https://colab.research.google.com/github/RebatiGaire/Simulation-And-Modeling/blob/master/Auto_Correlation_Test.ipynb\" target=\"_parent\"><img src=\"https://colab.research.google.com/assets/colab-badge.svg\" alt=\"Open In Colab\"/></a>"
      ]
    },
    {
      "cell_type": "code",
      "metadata": {
        "id": "nT0CdgzSSvNs"
      },
      "source": [
        "# Import Libraries\n",
        "\n",
        "import numpy as np\n",
        "from scipy.stats import chi2\n",
        "import matplotlib.pyplot as plt\n",
        "%matplotlib inline"
      ],
      "execution_count": 9,
      "outputs": []
    },
    {
      "cell_type": "code",
      "metadata": {
        "id": "32p5diRyS9X8"
      },
      "source": [
        "rn = [49, 95, 82, 19, 41, 31, 12, 53, 62, 40,\n",
        "      87, 83, 26, 1, 91, 55, 38, 75, 90, 35,\n",
        "      71, 57, 27, 85, 52, 8, 35, 57, 88, 38,\n",
        "      77, 86, 29, 18, 9, 96, 58, 22, 8, 93,\n",
        "      85, 45, 79, 68, 20, 11, 78, 93, 21, 13,\n",
        "      6, 32, 63, 79, 54, 67, 35, 18, 81, 40,\n",
        "      62, 13, 76, 74, 76, 45, 29, 36, 80, 78,\n",
        "      95, 25, 52]"
      ],
      "execution_count": 10,
      "outputs": []
    },
    {
      "cell_type": "code",
      "metadata": {
        "id": "bT4nsDjHTA4N",
        "outputId": "dde3a243-48f3-4183-9efe-15b44f18c559",
        "colab": {
          "base_uri": "https://localhost:8080/",
          "height": 421
        }
      },
      "source": [
        "# Data Visualization\n",
        "\n",
        "plt.figure(figsize= (8, 6))\n",
        "plt.plot(rn, 'bo')\n",
        "plt.title('Sequence of Generated Random Numbers')\n",
        "plt.xlabel('Index')\n",
        "plt.ylabel('Value')"
      ],
      "execution_count": 11,
      "outputs": [
        {
          "output_type": "execute_result",
          "data": {
            "text/plain": [
              "Text(0, 0.5, 'Value')"
            ]
          },
          "metadata": {
            "tags": []
          },
          "execution_count": 11
        },
        {
          "output_type": "display_data",
          "data": {
            "image/png": "[encoded data removed]",
            "text/plain": [
              "<Figure size 576x432 with 1 Axes>"
            ]
          },
          "metadata": {
            "tags": [],
            "needs_background": "light"
          }
        }
      ]
    },
    {
      "cell_type": "code",
      "metadata": {
        "id": "vwr5wKDpTEB9"
      },
      "source": [
        "def seq_to_freq(data, div_num):\n",
        "  div_arr = np.array([round((i+1)/div_num, 2) for i in range(div_num)])\n",
        "  print(f'Dividing Array : {div_arr}')\n",
        "  obs_freq = np.zeros(shape= (div_num**2))\n",
        "  for i in range(len(data) - 1):\n",
        "    r1 = data[i]\n",
        "    r2 = data[i+1]\n",
        "    if (r1 <= div_arr[0] and r2 <= div_arr[0]):\n",
        "      obs_freq[0] += 1\n",
        "\n",
        "    elif (r1 <= div_arr[1] and r2 <= div_arr[0]):\n",
        "      obs_freq[1] += 1\n",
        "\n",
        "    elif (r1 <= div_arr[2] and r2 <= div_arr[0]):\n",
        "      obs_freq[2] += 1\n",
        "\n",
        "    elif (r1 <= div_arr[0] and r2 <= div_arr[1]):\n",
        "      obs_freq[3] += 1\n",
        "\n",
        "    elif (r1 <= div_arr[1] and r2 <= div_arr[1]):\n",
        "      obs_freq[4] += 1\n",
        "\n",
        "    elif (r1 <= div_arr[2] and r2 <= div_arr[1]):\n",
        "      obs_freq[5] += 1\n",
        "\n",
        "    elif (r1 <= div_arr[0] and r2 <= div_arr[2]):\n",
        "      obs_freq[6] += 1\n",
        "\n",
        "    elif (r1 <= div_arr[1] and r2 <= div_arr[2]):\n",
        "      obs_freq[7] += 1\n",
        "\n",
        "    elif (r1 <= div_arr[2] and r2 <= div_arr[2]):\n",
        "      obs_freq[8] += 1\n",
        "\n",
        "  return obs_freq\n"
      ],
      "execution_count": 12,
      "outputs": []
    },
    {
      "cell_type": "code",
      "metadata": {
        "id": "Z0x2qYtvTJfQ"
      },
      "source": [
        "def chi_square_test(data, sample_size, no_of_classes, div_num):\n",
        "\n",
        "  obs_freq = seq_to_freq(data, div_num)\n",
        "  # obs_freq = np.array([9, 7, 6, 6, 8, 9, 7, 9, 11])\n",
        "  exp_freq = np.full(shape= (no_of_classes), fill_value= sample_size / no_of_classes)\n",
        "  print(f'Observed Frequency : {obs_freq}')\n",
        "  print(f'Expected Frequency : {exp_freq}')\n",
        "  chisquare_value = (((obs_freq - exp_freq)**2) / exp_freq).sum()\n",
        "\n",
        "  return chisquare_value"
      ],
      "execution_count": 13,
      "outputs": []
    },
    {
      "cell_type": "code",
      "metadata": {
        "id": "zmWQBXhnTLy-",
        "outputId": "fc18b997-d205-4b15-f6f7-e44b092d2bde",
        "colab": {
          "base_uri": "https://localhost:8080/",
          "height": 34
        }
      },
      "source": [
        "rn = np.array(rn) / 100\n",
        "print(f'Sample Size : {len(rn)}')\n",
        "\n",
        "div_no = 3\n",
        "sample_pair = len(rn) - 1\n",
        "no_of_classes = div_no ** 2\n",
        "\n",
        "alpha = 0.05\n",
        "dof = no_of_classes - 2"
      ],
      "execution_count": 14,
      "outputs": [
        {
          "output_type": "stream",
          "text": [
            "Sample Size : 73\n"
          ],
          "name": "stdout"
        }
      ]
    },
    {
      "cell_type": "code",
      "metadata": {
        "id": "3gdQFbAQTO5u",
        "outputId": "84b4d115-616c-44e5-a100-fa6ec1ec9899",
        "colab": {
          "base_uri": "https://localhost:8080/",
          "height": 119
        }
      },
      "source": [
        "cal_chisquare = chi_square_test(rn, sample_pair, no_of_classes, div_no)\n",
        "critical_chisquare = chi2.isf(df= dof, q= alpha)\n",
        "\n",
        "\n",
        "print(f\"Calculated Chi-Square value : {cal_chisquare}\")\n",
        "print(f\"Critical Chi-Square value : {critical_chisquare}\")\n",
        "if (cal_chisquare <= critical_chisquare):\n",
        "  print(\"Not enough evidences to reject Null Hypothesis i.e. The generated sequence of Random Number is not serially auto-correlated.\")\n",
        "else:\n",
        "  print(\"Null Hypothesis is rejected i.e. The generated sequence of Random Number is serially auto-correlated\")\n"
      ],
      "execution_count": 15,
      "outputs": [
        {
          "output_type": "stream",
          "text": [
            "Dividing Array : [0.33 0.67 1.  ]\n",
            "Observed Frequency : [ 9.  7.  6.  6.  7. 10.  7.  9. 11.]\n",
            "Expected Frequency : [8. 8. 8. 8. 8. 8. 8. 8. 8.]\n",
            "Calculated Chi-Square value : 3.25\n",
            "Critical Chi-Square value : 14.067140449340167\n",
            "Not enough evidences to reject Null Hypothesis i.e. The generated sequence of Random Number is not serially auto-correlated.\n"
          ],
          "name": "stdout"
        }
      ]
    }
  ]
}