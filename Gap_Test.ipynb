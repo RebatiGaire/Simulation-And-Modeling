{
  "nbformat": 4,
  "nbformat_minor": 0,
  "metadata": {
    "colab": {
      "name": "Gap-Test.ipynb",
      "provenance": [],
      "authorship_tag": "ABX9TyMIzZknLdtGs/8WUANPbbd0",
      "include_colab_link": true
    },
    "kernelspec": {
      "name": "python3",
      "display_name": "Python 3"
    }
  },
  "cells": [
    {
      "cell_type": "markdown",
      "metadata": {
        "id": "view-in-github",
        "colab_type": "text"
      },
      "source": [
        "<a href=\"https://colab.research.google.com/github/RebatiGaire/Simulation-And-Modeling/blob/master/Gap_Test.ipynb\" target=\"_parent\"><img src=\"https://colab.research.google.com/assets/colab-badge.svg\" alt=\"Open In Colab\"/></a>"
      ]
    },
    {
      "cell_type": "code",
      "metadata": {
        "id": "61Fv6hjhPWqD"
      },
      "source": [
        "import numpy as np\n",
        "import matplotlib.pyplot as plt\n",
        "%matplotlib inline\n"
      ],
      "execution_count": null,
      "outputs": []
    },
    {
      "cell_type": "code",
      "metadata": {
        "id": "d4hxizTZPeUR"
      },
      "source": [
        "# Given Data\n",
        "rn = [4, 1, 3, 5, 1, 7, 2, 8, 2, 0, 7, 9, 1, 3, 5,\n",
        "      2, 7, 9, 4, 1, 6, 3, 3, 9, 6, 3, 4, 8, 2, 3,\n",
        "      1, 9, 4, 4, 6, 8, 4, 1, 3, 8, 9, 5, 5, 7, 3, \n",
        "      9, 5, 9, 8, 5, 3, 2, 2, 3, 7, 4, 7, 0, 3, 6,\n",
        "      3, 5, 9, 9, 5, 5, 5, 0, 4, 6, 8, 0, 4, 7, 0,\n",
        "      3, 3, 0, 9, 5, 7, 9, 5, 1, 6, 6, 3, 8, 8, 8,\n",
        "      9, 2, 9, 1, 8, 5, 4, 4, 5, 0, 2, 3, 9, 7, 1,\n",
        "      2, 0, 3, 6, 3]"
      ],
      "execution_count": null,
      "outputs": []
    },
    {
      "cell_type": "code",
      "metadata": {
        "id": "2aCvPzBZP1EP",
        "outputId": "9adf8741-9dce-40f3-dd68-f7674a0bb23e",
        "colab": {
          "base_uri": "https://localhost:8080/",
          "height": 68
        }
      },
      "source": [
        "total_sample = len(rn)\n",
        "total_distinct_digit = len(set(rn))\n",
        "total_gap = total_sample - total_distinct_digit\n",
        "\n",
        "print(f'Total Digit : {total_sample}')\n",
        "print(f'Total Distinct Digit : {total_distinct_digit}')\n",
        "print(f'Total Gap : {total_gap}')"
      ],
      "execution_count": null,
      "outputs": [
        {
          "output_type": "stream",
          "text": [
            "Total Digit : 110\n",
            "Total Distinct Digit : 10\n",
            "Total Gap : 100\n"
          ],
          "name": "stdout"
        }
      ]
    },
    {
      "cell_type": "code",
      "metadata": {
        "id": "e9coIHHVP31B",
        "outputId": "956a3269-b9b8-41dd-844f-b726eab085fc",
        "colab": {
          "base_uri": "https://localhost:8080/",
          "height": 204
        }
      },
      "source": [
        "# Calculation of Gap between each digits\n",
        "\n",
        "freq = []\n",
        "for i in range(total_distinct_digit):\n",
        "  temp = []\n",
        "  ini_pos = rn.index(i)\n",
        "  pos = ini_pos\n",
        "  for index, value in enumerate(rn[pos+1:]):\n",
        "    if value == i:\n",
        "      next_pos = index + ini_pos + 1\n",
        "      temp.append(next_pos - pos - 1)\n",
        "      pos = next_pos\n",
        "  freq.append(temp)\n",
        "\n",
        "print('Frequency of Digits : ')\n",
        "freq"
      ],
      "execution_count": null,
      "outputs": [
        {
          "output_type": "stream",
          "text": [
            "Frequency of Digits : \n"
          ],
          "name": "stdout"
        },
        {
          "output_type": "execute_result",
          "data": {
            "text/plain": [
              "[[47, 9, 3, 2, 2, 21, 6],\n",
              " [2, 7, 6, 10, 6, 45, 9, 10],\n",
              " [1, 6, 12, 22, 0, 38, 8, 4],\n",
              " [10, 7, 0, 2, 3, 8, 5, 5, 2, 4, 1, 14, 0, 9, 14, 5, 1],\n",
              " [17, 7, 5, 0, 2, 18, 12, 3, 23, 0],\n",
              " [10, 26, 0, 3, 2, 11, 2, 0, 0, 12, 2, 12, 2],\n",
              " [3, 9, 24, 9, 14, 0, 22],\n",
              " [4, 5, 26, 10, 1, 16, 6, 22],\n",
              " [19, 7, 3, 8, 21, 16, 0, 0, 4],\n",
              " [5, 5, 7, 8, 4, 1, 14, 0, 14, 2, 8, 1, 9]]"
            ]
          },
          "metadata": {
            "tags": []
          },
          "execution_count": 7
        }
      ]
    },
    {
      "cell_type": "code",
      "metadata": {
        "id": "82B-PIZFQNez",
        "outputId": "ba29c120-3f3e-43f7-c6f8-5ce70e044a31",
        "colab": {
          "base_uri": "https://localhost:8080/",
          "height": 51
        }
      },
      "source": [
        "gap_list = []\n",
        "for item in freq:\n",
        "  no_of_gap = len(item)\n",
        "  gap_list.append(no_of_gap)\n",
        "\n",
        "print(f'Number of gaps for each digit : {gap_list}')\n",
        "\n",
        "print('Total Sum of Gap : {}'.format(sum(gap_list)))"
      ],
      "execution_count": null,
      "outputs": [
        {
          "output_type": "stream",
          "text": [
            "Number of gaps for each digit : [7, 8, 8, 17, 10, 13, 7, 8, 9, 13]\n",
            "Total Sum of Gap : 100\n"
          ],
          "name": "stdout"
        }
      ]
    },
    {
      "cell_type": "code",
      "metadata": {
        "id": "PrQjaxg7QS6M"
      },
      "source": [
        "# Function to convert Data to Frequency\n",
        "\n",
        "def Seq_to_freq(data, gap_len):\n",
        "  max_gap = max(map(max, data))\n",
        "  gap = 0\n",
        "  freq_of_gap = []\n",
        "  while gap <= max_gap:\n",
        "    count = 0\n",
        "    for row in data:\n",
        "      for value in row:\n",
        "        for i in range(gap, gap+gap_len):\n",
        "          if i == value:\n",
        "            count += 1\n",
        "    gap += gap_len\n",
        "    freq_of_gap.append(count)\n",
        "\n",
        "  return freq_of_gap\n",
        "\n"
      ],
      "execution_count": null,
      "outputs": []
    },
    {
      "cell_type": "code",
      "metadata": {
        "id": "IqoSVUUEQhz6"
      },
      "source": [
        "gap_len = 4\n",
        "\n",
        "freq_of_gap = np.array(Seq_to_freq(freq, gap_len))\n",
        "rel_freq = freq_of_gap / total_gap\n",
        "cum_freq = np.cumsum(rel_freq)\n",
        "theo_freq = np.array([1-0.9**(i+1) for i in range(gap_len-1, max(map(max, freq))+gap_len, 4)])\n",
        "diff_freq = np.abs(theo_freq - cum_freq)"
      ],
      "execution_count": null,
      "outputs": []
    },
    {
      "cell_type": "code",
      "metadata": {
        "id": "z3Dv04tqQpDm",
        "outputId": "ae006681-1e06-43e8-cf2b-4d04c5c6421a",
        "colab": {
          "base_uri": "https://localhost:8080/",
          "height": 204
        }
      },
      "source": [
        "print(f'Frequency of Gap : {freq_of_gap}\\n')\n",
        "print(f'Relative Frequency : {rel_freq}\\n')\n",
        "print(f'Cummulative Frequency(SN(X)): {cum_freq}\\n')\n",
        "print(f'Theoritical Frequency(FN(X)) : {theo_freq}\\n')\n",
        "print(f'|FN(X) - SN(X)| : {diff_freq}')"
      ],
      "execution_count": null,
      "outputs": [
        {
          "output_type": "stream",
          "text": [
            "Frequency of Gap : [35 22 17  9  5  6  3  0  0  1  0  2]\n",
            "\n",
            "Relative Frequency : [0.35 0.22 0.17 0.09 0.05 0.06 0.03 0.   0.   0.01 0.   0.02]\n",
            "\n",
            "Cummulative Frequency(SN(X)): [0.35 0.57 0.74 0.83 0.88 0.94 0.97 0.97 0.97 0.98 0.98 1.  ]\n",
            "\n",
            "Theoritical Frequency(FN(X)) : [0.3439     0.56953279 0.71757046 0.81469798 0.87842335 0.92023356\n",
            " 0.94766524 0.96566316 0.9774716  0.98521912 0.99030226 0.99363731]\n",
            "\n",
            "|FN(X) - SN(X)| : [0.0061     0.00046721 0.02242954 0.01530202 0.00157665 0.01976644\n",
            " 0.02233476 0.00433684 0.0074716  0.00521912 0.01030226 0.00636269]\n"
          ],
          "name": "stdout"
        }
      ]
    },
    {
      "cell_type": "code",
      "metadata": {
        "id": "XVPoJ3zERaT0"
      },
      "source": [
        "D_cal = np.max(diff_freq)\n",
        "D_critical = 1.36 / np.sqrt(total_gap)"
      ],
      "execution_count": null,
      "outputs": []
    },
    {
      "cell_type": "code",
      "metadata": {
        "id": "jLpSBUd8R1cE",
        "outputId": "cc216279-b4e4-4164-f180-8ea08fd5ecfe",
        "colab": {
          "base_uri": "https://localhost:8080/",
          "height": 68
        }
      },
      "source": [
        "print(f'Calculated D : {D_cal}')\n",
        "print(f'Critical D : {D_critical}')\n",
        "if (D_cal <= D_critical):\n",
        "  print(\"Not enough evidence to reject Null Hypothesis i.e. The generated sequence of Random Numbers are independent.\")\n",
        "else:\n",
        "  print(\"Enough evidences to reject Null Hypothesis i.e. The generated sequence of Random Numbers arenot independent.\")\n"
      ],
      "execution_count": null,
      "outputs": [
        {
          "output_type": "stream",
          "text": [
            "Calculated D : 0.0224295364810001\n",
            "Critical D : 0.136\n",
            "Not enough evidence to reject Null Hypothesis i.e. The generated sequence of Random Numbers are independent.\n"
          ],
          "name": "stdout"
        }
      ]
    }
  ]
}