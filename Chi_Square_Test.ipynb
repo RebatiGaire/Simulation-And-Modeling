{
  "nbformat": 4,
  "nbformat_minor": 0,
  "metadata": {
    "colab": {
      "name": "Chi-Square_Test.ipynb",
      "provenance": [],
      "collapsed_sections": [],
      "toc_visible": true,
      "authorship_tag": "ABX9TyMqj7W/NK8C/plsGzUqNfbv",
      "include_colab_link": true
    },
    "kernelspec": {
      "name": "python3",
      "display_name": "Python 3"
    }
  },
  "cells": [
    {
      "cell_type": "markdown",
      "metadata": {
        "id": "view-in-github",
        "colab_type": "text"
      },
      "source": [
        "<a href=\"https://colab.research.google.com/github/RebatiGaire/Simulation-And-Modeling/blob/master/Chi_Square_Test.ipynb\" target=\"_parent\"><img src=\"https://colab.research.google.com/assets/colab-badge.svg\" alt=\"Open In Colab\"/></a>"
      ]
    },
    {
      "cell_type": "markdown",
      "metadata": {
        "id": "aUPnkV9KJezc"
      },
      "source": [
        "# Import Libraries"
      ]
    },
    {
      "cell_type": "code",
      "metadata": {
        "id": "CxxMiRSac8hY"
      },
      "source": [
        "import numpy as np\n",
        "from scipy.stats import chi2\n",
        "import matplotlib.pyplot as plt\n",
        "%matplotlib inline"
      ],
      "execution_count": 105,
      "outputs": []
    },
    {
      "cell_type": "markdown",
      "metadata": {
        "id": "9OfbJvMpJkQG"
      },
      "source": [
        "# Generate Pseudo Random Numbers"
      ]
    },
    {
      "cell_type": "code",
      "metadata": {
        "id": "f4RaBrMLJj0d"
      },
      "source": [
        "a = 16805\n",
        "c = 0\n",
        "m = 2147483647\n",
        "r0 = 123457\n",
        "sample_size = 100"
      ],
      "execution_count": 106,
      "outputs": []
    },
    {
      "cell_type": "code",
      "metadata": {
        "id": "RdT8nFwtKuGv"
      },
      "source": [
        "def lcg(a, r0, c, m):\n",
        "  for i in range(sample_size):\n",
        "    rn = (a * r0 + c) % m\n",
        "    yield rn / m\n",
        "    r0 = rn\n",
        "    "
      ],
      "execution_count": 107,
      "outputs": []
    },
    {
      "cell_type": "code",
      "metadata": {
        "id": "K0jiDlolKz59"
      },
      "source": [
        "rn = np.array(list(lcg(a, r0, c, m))) * 100\n"
      ],
      "execution_count": 108,
      "outputs": []
    },
    {
      "cell_type": "code",
      "metadata": {
        "id": "9SBbFmnQdK83"
      },
      "source": [
        "# Random Number Sample\n",
        "\n",
        "# rn = [36, 91, 51, 2, 54, 6, 58, 6, 58, 2,\n",
        "#       54, 1, 48, 97, 43, 22, 83, 25, 79, 95,\n",
        "#       42, 87, 73, 17, 2, 42, 95, 38, 79, 29,\n",
        "#       65, 9, 55, 97, 39, 83, 31, 77, 17, 62,\n",
        "#       3, 49, 90, 37, 13, 17, 58, 11, 51, 92,\n",
        "#       33, 78, 21, 66, 9, 54, 49, 90, 35, 84,\n",
        "#       26, 74, 22, 62, 12, 90, 36, 83, 32, 75,\n",
        "#       31, 94, 34, 87, 40, 7, 58, 5, 56, 22,\n",
        "#       58, 77, 71, 10, 73, 23, 57, 13, 36, 89,\n",
        "#       22, 68, 2, 44, 99, 27, 81, 26, 85, 22]"
      ],
      "execution_count": 109,
      "outputs": []
    },
    {
      "cell_type": "markdown",
      "metadata": {
        "id": "ZOeeNBNAMm62"
      },
      "source": [
        "# Visualization"
      ]
    },
    {
      "cell_type": "code",
      "metadata": {
        "id": "B8-ELrSLgr_A",
        "outputId": "34bd9d0f-98fd-4284-d970-f96f00a7a088",
        "colab": {
          "base_uri": "https://localhost:8080/",
          "height": 421
        }
      },
      "source": [
        "# Data Visualization\n",
        "\n",
        "plt.figure(figsize= (8, 6))\n",
        "plt.plot(rn, 'bo')\n",
        "plt.title('Sequence of Generated Random Numbers')\n",
        "plt.xlabel('Index')\n",
        "plt.ylabel('Value')\n"
      ],
      "execution_count": 110,
      "outputs": [
        {
          "output_type": "execute_result",
          "data": {
            "text/plain": [
              "Text(0, 0.5, 'Value')"
            ]
          },
          "metadata": {
            "tags": []
          },
          "execution_count": 110
        },
        {
          "output_type": "display_data",
          "data": {
            "image/png": "[encoded data removed]",
            "text/plain": [
              "<Figure size 576x432 with 1 Axes>"
            ]
          },
          "metadata": {
            "tags": [],
            "needs_background": "light"
          }
        }
      ]
    },
    {
      "cell_type": "markdown",
      "metadata": {
        "id": "8q3i7Q3pM0Jj"
      },
      "source": [
        "# Chi-Square Test"
      ]
    },
    {
      "cell_type": "code",
      "metadata": {
        "id": "haAoYejQhxn4"
      },
      "source": [
        "# Chi-Square Test\n",
        "def data_to_freq(data, no_of_classes, class_size):\n",
        "  count = np.zeros(shape=(no_of_classes))\n",
        "  \n",
        "  for i in range(no_of_classes):\n",
        "    for no in data:\n",
        "      if (class_size * i <= no < class_size * (i+1)):\n",
        "        count[i] += 1\n",
        "\n",
        "  return count "
      ],
      "execution_count": 111,
      "outputs": []
    },
    {
      "cell_type": "code",
      "metadata": {
        "id": "RXKWCsqZHb7l"
      },
      "source": [
        "def chi_square_test(data, sample_size, no_of_classes, class_size):\n",
        "\n",
        "  obs_freq = data_to_freq(data, no_of_classes, class_size)\n",
        "  exp_freq = np.full(shape= (no_of_classes), fill_value= sample_size / no_of_classes)\n",
        "  print(f'Observed Frequency : {obs_freq}')\n",
        "  print(f'Expected Frequency : {exp_freq}')\n",
        "  chisquare_value = (((obs_freq - exp_freq)**2) / exp_freq).sum()\n",
        "\n",
        "  return chisquare_value"
      ],
      "execution_count": 112,
      "outputs": []
    },
    {
      "cell_type": "code",
      "metadata": {
        "id": "uCA4fSdaH8IL"
      },
      "source": [
        "sample_size = len(rn)\n",
        "no_of_classes = 10\n",
        "class_size = sample_size / no_of_classes\n",
        "\n",
        "alpha = 0.05\n",
        "dof = no_of_classes - 1"
      ],
      "execution_count": 113,
      "outputs": []
    },
    {
      "cell_type": "code",
      "metadata": {
        "id": "74FlF6ViIKiA",
        "outputId": "6ed764d8-1961-434b-9ef7-96e7abc26242",
        "colab": {
          "base_uri": "https://localhost:8080/",
          "height": 102
        }
      },
      "source": [
        "cal_chisquare = chi_square_test(rn, sample_size, no_of_classes, class_size)\n",
        "critical_chisquare = chi2.isf(df= dof, q= alpha)\n",
        "\n",
        "\n",
        "print(f\"Calculated Chi-Square value : {cal_chisquare}\")\n",
        "print(f\"Critical Chi-Square value : {critical_chisquare}\")\n",
        "if (cal_chisquare <= critical_chisquare):\n",
        "  print(\"Not enough evidences to reject Null Hypothesis i.e. The generated sequence of Random Number is distributed Uniformly.\")\n",
        "else:\n",
        "  print(\"Null Hypothesis is rejected i.e. The generated sequence of Random Number isnot distributed Uniformly.\")\n"
      ],
      "execution_count": 114,
      "outputs": [
        {
          "output_type": "stream",
          "text": [
            "Observed Frequency : [10.  3. 10. 16.  4. 16.  6.  9. 14. 12.]\n",
            "Expected Frequency : [10. 10. 10. 10. 10. 10. 10. 10. 10. 10.]\n",
            "Calculated Chi-Square value : 19.4\n",
            "Critical Chi-Square value : 16.91897760462045\n",
            "Null Hypothesis is rejected i.e. The generated sequence of Random Number isnot distributed Uniformly.\n"
          ],
          "name": "stdout"
        }
      ]
    }
  ]
}